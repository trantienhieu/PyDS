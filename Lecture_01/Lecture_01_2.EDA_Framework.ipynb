{
 "cells": [
  {
   "cell_type": "markdown",
   "metadata": {
    "slideshow": {
     "slide_type": "slide"
    }
   },
   "source": [
    "# Exploratory Data Analysis\n",
    "![](https://fiverr-res.cloudinary.com/images/t_main1,q_auto,f_auto,q_auto,f_auto/gigs/136400130/original/4ba618b0ca533da4e275a05cc4013f6b982cb874/machine-learning-android-development.jpg)"
   ]
  },
  {
   "cell_type": "markdown",
   "metadata": {
    "slideshow": {
     "slide_type": "slide"
    }
   },
   "source": [
    "# Exploratory Data Analysis\n",
    "\n",
    "* The first step in any data science project\n",
    "* Suggested in 1962 by John Tukey, an American mathematican who is well-known for Fast Fourier Transform algorithm, box plot, Tukey range test, Tukey lambda distribution, Tukey test of additivity, and Teichmüller–Tukey lemma.\n",
    "* Tukey presented simple plots (e.g. box plots, scatterplots) that, along with summary statistics (mean, median, quantiles, etc.), help paint a picture of a dataset.\n",
    "![](https://upload.wikimedia.org/wikipedia/en/e/e9/John_Tukey.jpg)"
   ]
  },
  {
   "cell_type": "markdown",
   "metadata": {
    "slideshow": {
     "slide_type": "slide"
    }
   },
   "source": [
    "# Elements of Structured Data\n",
    "\n",
    "* **Numeric**: Data that are expressed on a numeric scale\n",
    "    * **Continuous**: Data that can take on any value in an interval.\n",
    "        * Synonyms: interval, float, numeric.\n",
    "        * Example: wind speed or time duration\n",
    "    * **Discrete**: Data that can take on only integer values, such as counts. \n",
    "        * Synonyms: integer, count\n",
    "        * Example: count of the occurrence of an event\n",
    "* **Categorical**: Data that can take on only a specific set of values representing a set of possible categories.\n",
    "    * Synonyms: enums, enumerated, factors, nominal, polychotomous\n",
    "    * **Binary**: A special case of categorical data with just two categories of values (0/1, true/false). \n",
    "        * Synonyms: dichotomous, logical, indicator, boolean\n",
    "        * Example: 0/1, yes/no, or true/false\n",
    "    * **Ordinal**:Categorical data that has an explicit ordering. \n",
    "        * Synonyms: ordered factor.\n",
    "        * Example: numerical rating (1, 2, 3, 4, or 5).\n",
    "\n",
    "### Even unstructured data need to be transformed to structured format before any analysis"
   ]
  },
  {
   "cell_type": "markdown",
   "metadata": {
    "slideshow": {
     "slide_type": "slide"
    }
   },
   "source": [
    "# Estimates of Location - Mode, Mean, Median, Range\n",
    "![](https://www.theschoolrun.com/sites/theschoolrun.com/files/article_images/mode_mean_median_range.png)"
   ]
  },
  {
   "cell_type": "markdown",
   "metadata": {
    "slideshow": {
     "slide_type": "slide"
    }
   },
   "source": [
    "# Estimates of Variability - Standard Deviation\n",
    "![](https://upload.wikimedia.org/wikipedia/commons/thumb/8/8c/Standard_deviation_diagram.svg/1200px-Standard_deviation_diagram.svg.png)"
   ]
  },
  {
   "cell_type": "markdown",
   "metadata": {
    "slideshow": {
     "slide_type": "slide"
    }
   },
   "source": [
    "# Standard deviation is sensible to outliers\n",
    "![](https://encrypted-tbn0.gstatic.com/images?q=tbn:ANd9GcRJRUzmCWzCoTx9X8l3urqMFE-Nxw_BvNGvVWEy8kqPdZMkpQMl&s)\n",
    "# A robust estimate of variability - median absolute deviation from the median\n",
    "![](https://www.asprova.jp/mrp/glossary/en/fig/mrp_173-2.jpg)"
   ]
  },
  {
   "cell_type": "markdown",
   "metadata": {
    "slideshow": {
     "slide_type": "slide"
    }
   },
   "source": [
    "# Outliers\n",
    "![](https://mathworld.wolfram.com/images/eps-gif/OutlierHistogram_1000.gif)\n",
    "![](https://cdn.kastatic.org/googleusercontent/8bSRVB7q_zWxFliXcZVQSBDtip3sMGRkkHGLVzvflS3goQZZhmhrSD9u1cSduXh-9DJ9sSjCqVyozwQ_FwJNkptC)"
   ]
  },
  {
   "cell_type": "markdown",
   "metadata": {
    "slideshow": {
     "slide_type": "slide"
    }
   },
   "source": [
    "![](https://slideplayer.com/slide/12859452/78/images/57/Outlier+detection+with+z-score.jpg)"
   ]
  },
  {
   "cell_type": "markdown",
   "metadata": {
    "slideshow": {
     "slide_type": "slide"
    }
   },
   "source": [
    "# Exploring the Data Distribution - Boxplot\n",
    "* A plot introduced by Tukey as a quick way to visualize the distribution of data.\n",
    "![](https://miro.medium.com/max/18000/1*2c21SkzJMf3frPXPAR_gZA.png)"
   ]
  },
  {
   "cell_type": "markdown",
   "metadata": {
    "slideshow": {
     "slide_type": "slide"
    }
   },
   "source": [
    "# Exploring the Data Distribution - Frequency table\n",
    "![](https://www.s-cool.co.uk/assets/learn_its/gcse/maths/representing-data/graphs-and-charts-2/2007-10-23_114052.gif)"
   ]
  },
  {
   "cell_type": "markdown",
   "metadata": {
    "slideshow": {
     "slide_type": "slide"
    }
   },
   "source": [
    "# Exploring the Data Distribution - Histogram\n",
    "![](https://upload.wikimedia.org/wikipedia/commons/thumb/c/c3/Histogram_of_arrivals_per_minute.svg/1200px-Histogram_of_arrivals_per_minute.svg.png)"
   ]
  },
  {
   "cell_type": "markdown",
   "metadata": {
    "slideshow": {
     "slide_type": "slide"
    }
   },
   "source": [
    "# Exploring the Data Distribution\n",
    "## Density plot\n",
    "* A smoothed version of the histogram, often based on a kernel density estimate.\n",
    "![](https://datavizcatalogue.com/methods/images/top_images/SVG/density_plot.svg)"
   ]
  },
  {
   "cell_type": "markdown",
   "metadata": {
    "slideshow": {
     "slide_type": "slide"
    }
   },
   "source": [
    "# Exploring the Data Distribution\n",
    "## Density plot - Skewness & Kurtosis\n",
    "![](https://www.researchgate.net/profile/Attila_Bonyar/publication/298415862/figure/fig1/AS:340236723867648@1458130164255/Illustration-of-the-skewness-and-kurtosis-values-and-how-they-correlate-with-the-shape-of.png)"
   ]
  },
  {
   "cell_type": "markdown",
   "metadata": {
    "slideshow": {
     "slide_type": "slide"
    }
   },
   "source": [
    "# Exploring Binary and Categorical Data\n",
    "## Mode\n",
    "* The most commonly occurring category or value in a data set.\n",
    "![](https://statistics.laerd.com/statistical-guides/img/mode-1a.png)"
   ]
  },
  {
   "cell_type": "markdown",
   "metadata": {
    "slideshow": {
     "slide_type": "slide"
    }
   },
   "source": [
    "# Exploring Binary and Categorical Data\n",
    "## Bar charts\n",
    "* The frequency or proportion for each category plotted as bars.\n",
    "![](https://chartio.com/assets/f7272d/tutorials/charts/bar-charts/4231f2343fb3c86edcd9e468db398d33c18ab1c16c6d38a1afedf0e06ca8fc4d/bar-chart-example-3.png)"
   ]
  },
  {
   "cell_type": "markdown",
   "metadata": {
    "slideshow": {
     "slide_type": "slide"
    }
   },
   "source": [
    "# Exploring Binary and Categorical Data - Pie charts\n",
    "![](https://upload.wikimedia.org/wikipedia/commons/6/63/Pie-chart.jpg)"
   ]
  },
  {
   "cell_type": "markdown",
   "metadata": {
    "slideshow": {
     "slide_type": "slide"
    }
   },
   "source": [
    "# Relation of 2 continous data\n",
    "## Correlation\n",
    "![](https://www.simplypsychology.org/correlation.jpg)"
   ]
  },
  {
   "cell_type": "markdown",
   "metadata": {
    "slideshow": {
     "slide_type": "slide"
    }
   },
   "source": [
    "# Relation of 2 continous data - Correlation matrix\n",
    "![](https://miro.medium.com/max/666/1*EuqHC0-iQpNW6yNMJdpbnA.png)"
   ]
  },
  {
   "cell_type": "markdown",
   "metadata": {
    "slideshow": {
     "slide_type": "slide"
    }
   },
   "source": [
    "# Relation of 2 continous data\n",
    "## Scatter Plot\n",
    "![](https://www.researchgate.net/profile/Muhammad_Irwanto2/publication/271635547/figure/fig7/AS:668701388992522@1536442243891/The-scatter-plot-of-solar-radiation-versus-air-temperature-A-simple-linear-regression.png)"
   ]
  },
  {
   "cell_type": "markdown",
   "metadata": {
    "slideshow": {
     "slide_type": "slide"
    }
   },
   "source": [
    "# Relation of 2 continous data\n",
    "## Hexagonal binning plot\n",
    "![](https://seaborn.pydata.org/_images/hexbin_marginals.png)"
   ]
  },
  {
   "cell_type": "markdown",
   "metadata": {
    "slideshow": {
     "slide_type": "slide"
    }
   },
   "source": [
    "# Relation of 2 continous data\n",
    "## Contours Plot\n",
    "![](https://i.stack.imgur.com/sOQwJ.png)"
   ]
  },
  {
   "cell_type": "markdown",
   "metadata": {
    "slideshow": {
     "slide_type": "slide"
    }
   },
   "source": [
    "# Relation of Two Categorical Variables\n",
    "## Contingency Table\n",
    "![](https://slideplayer.com/slide/1650553/7/images/22/Contingency+Table+Example.jpg)"
   ]
  },
  {
   "cell_type": "markdown",
   "metadata": {
    "slideshow": {
     "slide_type": "slide"
    }
   },
   "source": [
    "# Relation between Categorical and Numeric Data\n",
    "## Box Plot\n",
    "![](https://www.wellbeingatschool.org.nz/sites/default/files/W@S-different-boxplots.png)"
   ]
  },
  {
   "cell_type": "markdown",
   "metadata": {
    "slideshow": {
     "slide_type": "slide"
    }
   },
   "source": [
    "# Relation between Categorical and Numeric Data\n",
    "## Violin Plot\n",
    "![](https://seaborn.pydata.org/_images/seaborn-violinplot-2.png)"
   ]
  },
  {
   "cell_type": "markdown",
   "metadata": {
    "slideshow": {
     "slide_type": "slide"
    }
   },
   "source": [
    "# Relation between Categorical and Numeric Data\n",
    "## Multiple Density Plots\n",
    "![](https://i.stack.imgur.com/vyznx.png)"
   ]
  },
  {
   "cell_type": "markdown",
   "metadata": {
    "slideshow": {
     "slide_type": "slide"
    }
   },
   "source": [
    "# Relation between Categorical and Numeric Data - Ridge Plot\n",
    "![](https://seaborn.pydata.org/_images/kde_ridgeplot.png)"
   ]
  },
  {
   "cell_type": "markdown",
   "metadata": {
    "slideshow": {
     "slide_type": "slide"
    }
   },
   "source": [
    "# Relation between Categorical and Numeric Data - When categorical data has too many values\n",
    "![](https://semiotic.nteract.io/assets/img/ridgeline.png)"
   ]
  },
  {
   "cell_type": "markdown",
   "metadata": {
    "slideshow": {
     "slide_type": "slide"
    }
   },
   "source": [
    "# Relation between 2 Categorical Data and 1 Numeric Data\n",
    "## Violin Plot\n",
    "![](https://seaborn.pydata.org/_images/seaborn-violinplot-3.png)"
   ]
  },
  {
   "cell_type": "markdown",
   "metadata": {
    "slideshow": {
     "slide_type": "slide"
    }
   },
   "source": [
    "# Relation between 1 Categorical Data and 2 Numeric Data\n",
    "## Multiple Density Plots\n",
    "![](https://i0.wp.com/www.sthda.com/sthda/RDoc/figure/ggpubr/arrange-multiple-ggplots-marginal-plot-grouped-data-1.png?w=450)"
   ]
  },
  {
   "cell_type": "markdown",
   "metadata": {
    "slideshow": {
     "slide_type": "slide"
    }
   },
   "source": [
    "## Change of Numeric Data Overtime (Also, change over time of numeric data with different values of categorical data)\n",
    "![](https://datavizf18.classes.andrewheiss.com/class/06-class_files/figure-html/ridge-temp-month-gradient-1.png)"
   ]
  },
  {
   "cell_type": "markdown",
   "metadata": {
    "slideshow": {
     "slide_type": "slide"
    }
   },
   "source": [
    "![](https://www.eteacherlk.com/wp-content/uploads/2018/04/maxresdefault.jpg)"
   ]
  },
  {
   "cell_type": "markdown",
   "metadata": {
    "slideshow": {
     "slide_type": "slide"
    }
   },
   "source": [
    "# Does difference in categorical data values lead to difference in numerica data distribution?\n",
    "## ANOVA - Analysis of Variance\n",
    "![](https://www.questionpro.com/blog/wp-content/uploads/2016/03/rsz_anova-800x444.jpg)"
   ]
  },
  {
   "cell_type": "markdown",
   "metadata": {
    "slideshow": {
     "slide_type": "slide"
    }
   },
   "source": [
    "# Does difference in categorical data values lead to difference in numerica data distribution?\n",
    "## ANOVA - Analysis of Variance\n",
    "![](https://i.pinimg.com/originals/eb/94/f9/eb94f9bae12be2d6617549bd22e7d216.jpg)"
   ]
  },
  {
   "cell_type": "markdown",
   "metadata": {
    "slideshow": {
     "slide_type": "slide"
    }
   },
   "source": [
    "# Does change in 1 numeric data lead to change in another numerica data?\n",
    "## Linear Regression\n",
    "![](https://upload.wikimedia.org/wikipedia/commons/thumb/3/3a/Linear_regression.svg/1200px-Linear_regression.svg.png)"
   ]
  },
  {
   "cell_type": "markdown",
   "metadata": {
    "slideshow": {
     "slide_type": "slide"
    }
   },
   "source": [
    "# Does change in 1 numeric data lead to change in another numerica data?\n",
    "## Polynomial Regression\n",
    "![](https://animoidin.files.wordpress.com/2018/07/polim_vs_linear.jpg?w=909&h=584&crop=1)"
   ]
  },
  {
   "cell_type": "markdown",
   "metadata": {
    "slideshow": {
     "slide_type": "slide"
    }
   },
   "source": [
    "# Does change in 1 categorical data lead to change in another categorical data?\n",
    "## Chi-Square Test\n",
    "![](https://cdn.analystprep.com/cfa-level-1-exam/wp-content/uploads/2019/08/05104731/page-189.jpg)"
   ]
  },
  {
   "cell_type": "markdown",
   "metadata": {
    "slideshow": {
     "slide_type": "slide"
    }
   },
   "source": [
    "# Does change in 1 categorical data lead to change in another categorical data?\n",
    "## Chi-Square Test\n",
    "![](https://image.slideserve.com/768344/chi-square-test-l.jpg)"
   ]
  },
  {
   "cell_type": "markdown",
   "metadata": {
    "slideshow": {
     "slide_type": "slide"
    }
   },
   "source": [
    "# Does change in 1 categorical data lead to change in another categorical data?\n",
    "## Chi-Square Test\n",
    "![](https://i.pinimg.com/originals/9b/b7/b8/9bb7b8a0861827ffca359d96fe83a557.png)"
   ]
  },
  {
   "cell_type": "markdown",
   "metadata": {
    "slideshow": {
     "slide_type": "slide"
    }
   },
   "source": [
    "# Feature Engineering\n",
    "![](https://miro.medium.com/max/3154/1*DoNn5kB0I1BTEjhO2D3yOA.png)"
   ]
  },
  {
   "cell_type": "markdown",
   "metadata": {
    "slideshow": {
     "slide_type": "slide"
    }
   },
   "source": [
    "# Feature Engineering\n",
    "![](https://www.topbots.com/wp-content/uploads/2019/09/cover_1600px_web-1280x640.jpg)"
   ]
  },
  {
   "cell_type": "markdown",
   "metadata": {
    "slideshow": {
     "slide_type": "slide"
    }
   },
   "source": [
    "# Feature Engineering\n",
    "![](http://lambda-xmu.club/img/Machine_Learning_Workflow.png)"
   ]
  },
  {
   "cell_type": "markdown",
   "metadata": {
    "slideshow": {
     "slide_type": "slide"
    }
   },
   "source": [
    "# Feature Engineering\n",
    "![](https://machinelearningcoban.com/assets/FeatureEngineering/ML_models.png)"
   ]
  },
  {
   "cell_type": "markdown",
   "metadata": {
    "slideshow": {
     "slide_type": "slide"
    }
   },
   "source": [
    "# Feature Engineering\n",
    "![](https://miro.medium.com/max/9706/1*bNwd6mp1uzyx45uHnm1VWA.jpeg)"
   ]
  },
  {
   "cell_type": "markdown",
   "metadata": {
    "slideshow": {
     "slide_type": "slide"
    }
   },
   "source": [
    "# Unsupervised Learning & Clustering\n",
    "![](https://quantdare.com/wp-content/uploads/2018/03/plot.png)"
   ]
  }
 ],
 "metadata": {
  "celltoolbar": "Slideshow",
  "kernelspec": {
   "display_name": "Python 3",
   "language": "python",
   "name": "python3"
  },
  "language_info": {
   "codemirror_mode": {
    "name": "ipython",
    "version": 3
   },
   "file_extension": ".py",
   "mimetype": "text/x-python",
   "name": "python",
   "nbconvert_exporter": "python",
   "pygments_lexer": "ipython3",
   "version": "3.8.3"
  }
 },
 "nbformat": 4,
 "nbformat_minor": 4
}
